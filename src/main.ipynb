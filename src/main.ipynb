{
 "cells": [
  {
   "cell_type": "markdown",
   "metadata": {},
   "source": [
    "# **Linear Regression on Bike Sharing**\n",
    "\n",
    "<hr>\n",
    "\n",
    "**Storyline**\n",
    "\n",
    "RentoBikes,  a leading US bike-sharing provider, is addressing pandemic-induced revenue challenges by analyzing factors influencing bike demand. Engaging a consulting firm, they aim to predict demand post-lockdown and tailor their strategy. Data preparation involves converting numeric variables and retaining the 'yr' column for its predictive value. The model, focusing on the 'cnt' variable, aims to reveal insights into demand dynamics, guiding BoomBikes in optimizing their services for post-Covid market recovery\n",
    "\n",
    "<hr>\n"
   ]
  },
  {
   "cell_type": "markdown",
   "metadata": {},
   "source": [
    "<hr>\n",
    "\n",
    "# **Stage 1: Reading and Understanding the data**"
   ]
  },
  {
   "cell_type": "code",
   "execution_count": 1,
   "metadata": {},
   "outputs": [],
   "source": [
    "# Libraries needed\n",
    "import numpy as np\n",
    "import pandas as pd\n",
    "import seaborn as sns\n",
    "import matplotlib.pyplot as plt\n",
    "\n",
    "# warning supression\n",
    "import warnings\n",
    "warnings.filterwarnings('ignore')\n",
    "\n",
    "# data reading\n",
    "df = pd.read_csv('D:/Python Programming/Training/Datasets/BikeSharingData.csv')"
   ]
  },
  {
   "cell_type": "markdown",
   "metadata": {},
   "source": [
    "**Data Inspection**"
   ]
  },
  {
   "cell_type": "code",
   "execution_count": 2,
   "metadata": {},
   "outputs": [
    {
     "data": {
      "text/html": [
       "<div>\n",
       "<style scoped>\n",
       "    .dataframe tbody tr th:only-of-type {\n",
       "        vertical-align: middle;\n",
       "    }\n",
       "\n",
       "    .dataframe tbody tr th {\n",
       "        vertical-align: top;\n",
       "    }\n",
       "\n",
       "    .dataframe thead th {\n",
       "        text-align: right;\n",
       "    }\n",
       "</style>\n",
       "<table border=\"1\" class=\"dataframe\">\n",
       "  <thead>\n",
       "    <tr style=\"text-align: right;\">\n",
       "      <th></th>\n",
       "      <th>instant</th>\n",
       "      <th>dteday</th>\n",
       "      <th>season</th>\n",
       "      <th>yr</th>\n",
       "      <th>mnth</th>\n",
       "      <th>holiday</th>\n",
       "      <th>weekday</th>\n",
       "      <th>workingday</th>\n",
       "      <th>weathersit</th>\n",
       "      <th>temp</th>\n",
       "      <th>atemp</th>\n",
       "      <th>hum</th>\n",
       "      <th>windspeed</th>\n",
       "      <th>casual</th>\n",
       "      <th>registered</th>\n",
       "      <th>cnt</th>\n",
       "    </tr>\n",
       "  </thead>\n",
       "  <tbody>\n",
       "    <tr>\n",
       "      <th>0</th>\n",
       "      <td>1</td>\n",
       "      <td>01-01-2018</td>\n",
       "      <td>1</td>\n",
       "      <td>0</td>\n",
       "      <td>1</td>\n",
       "      <td>0</td>\n",
       "      <td>1</td>\n",
       "      <td>1</td>\n",
       "      <td>2</td>\n",
       "      <td>14.110847</td>\n",
       "      <td>18.18125</td>\n",
       "      <td>80.5833</td>\n",
       "      <td>10.749882</td>\n",
       "      <td>331</td>\n",
       "      <td>654</td>\n",
       "      <td>985</td>\n",
       "    </tr>\n",
       "    <tr>\n",
       "      <th>1</th>\n",
       "      <td>2</td>\n",
       "      <td>02-01-2018</td>\n",
       "      <td>1</td>\n",
       "      <td>0</td>\n",
       "      <td>1</td>\n",
       "      <td>0</td>\n",
       "      <td>2</td>\n",
       "      <td>1</td>\n",
       "      <td>2</td>\n",
       "      <td>14.902598</td>\n",
       "      <td>17.68695</td>\n",
       "      <td>69.6087</td>\n",
       "      <td>16.652113</td>\n",
       "      <td>131</td>\n",
       "      <td>670</td>\n",
       "      <td>801</td>\n",
       "    </tr>\n",
       "    <tr>\n",
       "      <th>2</th>\n",
       "      <td>3</td>\n",
       "      <td>03-01-2018</td>\n",
       "      <td>1</td>\n",
       "      <td>0</td>\n",
       "      <td>1</td>\n",
       "      <td>0</td>\n",
       "      <td>3</td>\n",
       "      <td>1</td>\n",
       "      <td>1</td>\n",
       "      <td>8.050924</td>\n",
       "      <td>9.47025</td>\n",
       "      <td>43.7273</td>\n",
       "      <td>16.636703</td>\n",
       "      <td>120</td>\n",
       "      <td>1229</td>\n",
       "      <td>1349</td>\n",
       "    </tr>\n",
       "    <tr>\n",
       "      <th>3</th>\n",
       "      <td>4</td>\n",
       "      <td>04-01-2018</td>\n",
       "      <td>1</td>\n",
       "      <td>0</td>\n",
       "      <td>1</td>\n",
       "      <td>0</td>\n",
       "      <td>4</td>\n",
       "      <td>1</td>\n",
       "      <td>1</td>\n",
       "      <td>8.200000</td>\n",
       "      <td>10.60610</td>\n",
       "      <td>59.0435</td>\n",
       "      <td>10.739832</td>\n",
       "      <td>108</td>\n",
       "      <td>1454</td>\n",
       "      <td>1562</td>\n",
       "    </tr>\n",
       "    <tr>\n",
       "      <th>4</th>\n",
       "      <td>5</td>\n",
       "      <td>05-01-2018</td>\n",
       "      <td>1</td>\n",
       "      <td>0</td>\n",
       "      <td>1</td>\n",
       "      <td>0</td>\n",
       "      <td>5</td>\n",
       "      <td>1</td>\n",
       "      <td>1</td>\n",
       "      <td>9.305237</td>\n",
       "      <td>11.46350</td>\n",
       "      <td>43.6957</td>\n",
       "      <td>12.522300</td>\n",
       "      <td>82</td>\n",
       "      <td>1518</td>\n",
       "      <td>1600</td>\n",
       "    </tr>\n",
       "  </tbody>\n",
       "</table>\n",
       "</div>"
      ],
      "text/plain": [
       "   instant      dteday  season  yr  mnth  holiday  weekday  workingday  \\\n",
       "0        1  01-01-2018       1   0     1        0        1           1   \n",
       "1        2  02-01-2018       1   0     1        0        2           1   \n",
       "2        3  03-01-2018       1   0     1        0        3           1   \n",
       "3        4  04-01-2018       1   0     1        0        4           1   \n",
       "4        5  05-01-2018       1   0     1        0        5           1   \n",
       "\n",
       "   weathersit       temp     atemp      hum  windspeed  casual  registered  \\\n",
       "0           2  14.110847  18.18125  80.5833  10.749882     331         654   \n",
       "1           2  14.902598  17.68695  69.6087  16.652113     131         670   \n",
       "2           1   8.050924   9.47025  43.7273  16.636703     120        1229   \n",
       "3           1   8.200000  10.60610  59.0435  10.739832     108        1454   \n",
       "4           1   9.305237  11.46350  43.6957  12.522300      82        1518   \n",
       "\n",
       "    cnt  \n",
       "0   985  \n",
       "1   801  \n",
       "2  1349  \n",
       "3  1562  \n",
       "4  1600  "
      ]
     },
     "execution_count": 2,
     "metadata": {},
     "output_type": "execute_result"
    }
   ],
   "source": [
    "df.head()"
   ]
  },
  {
   "cell_type": "code",
   "execution_count": 3,
   "metadata": {},
   "outputs": [
    {
     "name": "stdout",
     "output_type": "stream",
     "text": [
      "<class 'pandas.core.frame.DataFrame'>\n",
      "RangeIndex: 730 entries, 0 to 729\n",
      "Data columns (total 16 columns):\n",
      " #   Column      Non-Null Count  Dtype  \n",
      "---  ------      --------------  -----  \n",
      " 0   instant     730 non-null    int64  \n",
      " 1   dteday      730 non-null    object \n",
      " 2   season      730 non-null    int64  \n",
      " 3   yr          730 non-null    int64  \n",
      " 4   mnth        730 non-null    int64  \n",
      " 5   holiday     730 non-null    int64  \n",
      " 6   weekday     730 non-null    int64  \n",
      " 7   workingday  730 non-null    int64  \n",
      " 8   weathersit  730 non-null    int64  \n",
      " 9   temp        730 non-null    float64\n",
      " 10  atemp       730 non-null    float64\n",
      " 11  hum         730 non-null    float64\n",
      " 12  windspeed   730 non-null    float64\n",
      " 13  casual      730 non-null    int64  \n",
      " 14  registered  730 non-null    int64  \n",
      " 15  cnt         730 non-null    int64  \n",
      "dtypes: float64(4), int64(11), object(1)\n",
      "memory usage: 91.4+ KB\n"
     ]
    }
   ],
   "source": [
    "df.info()"
   ]
  },
  {
   "cell_type": "markdown",
   "metadata": {},
   "source": [
    "**Check for the null values**"
   ]
  },
  {
   "cell_type": "code",
   "execution_count": 4,
   "metadata": {},
   "outputs": [
    {
     "data": {
      "text/plain": [
       "instant       0\n",
       "dteday        0\n",
       "season        0\n",
       "yr            0\n",
       "mnth          0\n",
       "holiday       0\n",
       "weekday       0\n",
       "workingday    0\n",
       "weathersit    0\n",
       "temp          0\n",
       "atemp         0\n",
       "hum           0\n",
       "windspeed     0\n",
       "casual        0\n",
       "registered    0\n",
       "cnt           0\n",
       "dtype: int64"
      ]
     },
     "execution_count": 4,
     "metadata": {},
     "output_type": "execute_result"
    }
   ],
   "source": [
    "df.isnull().sum()"
   ]
  },
  {
   "cell_type": "markdown",
   "metadata": {},
   "source": [
    "# **Insights:**\n",
    "\n",
    "1. Dropping the columns that are not required for the modelling\n",
    "\n",
    "a. <b>Instant: This is just telling about row number, not required</b>\n",
    "\n",
    "b. <b>Casual and Registered: no need as the dependent variable is count.</b>\n",
    "\n",
    "c. <b>The columns 'dteday' and 'yr month' contains the same data. To eliminate the redundancy we will drop 'dteday'.</b>\n",
    "\n",
    "**The variable 'casual' is telling us about the number of casual users who have made a booking. The column 'registered', on the other side, shows the total number of registered users who have made a booking. Finally, the 'cnt' column indicates teh total number of bike rentals, including casual and registered. So, we are going to build the model on the basis of 'cnt' columns**"
   ]
  },
  {
   "cell_type": "code",
   "execution_count": 5,
   "metadata": {},
   "outputs": [
    {
     "data": {
      "text/html": [
       "<div>\n",
       "<style scoped>\n",
       "    .dataframe tbody tr th:only-of-type {\n",
       "        vertical-align: middle;\n",
       "    }\n",
       "\n",
       "    .dataframe tbody tr th {\n",
       "        vertical-align: top;\n",
       "    }\n",
       "\n",
       "    .dataframe thead th {\n",
       "        text-align: right;\n",
       "    }\n",
       "</style>\n",
       "<table border=\"1\" class=\"dataframe\">\n",
       "  <thead>\n",
       "    <tr style=\"text-align: right;\">\n",
       "      <th></th>\n",
       "      <th>season</th>\n",
       "      <th>yr</th>\n",
       "      <th>mnth</th>\n",
       "      <th>holiday</th>\n",
       "      <th>weekday</th>\n",
       "      <th>workingday</th>\n",
       "      <th>weathersit</th>\n",
       "      <th>temp</th>\n",
       "      <th>atemp</th>\n",
       "      <th>hum</th>\n",
       "      <th>windspeed</th>\n",
       "      <th>cnt</th>\n",
       "    </tr>\n",
       "  </thead>\n",
       "  <tbody>\n",
       "    <tr>\n",
       "      <th>0</th>\n",
       "      <td>1</td>\n",
       "      <td>0</td>\n",
       "      <td>1</td>\n",
       "      <td>0</td>\n",
       "      <td>1</td>\n",
       "      <td>1</td>\n",
       "      <td>2</td>\n",
       "      <td>14.110847</td>\n",
       "      <td>18.18125</td>\n",
       "      <td>80.5833</td>\n",
       "      <td>10.749882</td>\n",
       "      <td>985</td>\n",
       "    </tr>\n",
       "    <tr>\n",
       "      <th>1</th>\n",
       "      <td>1</td>\n",
       "      <td>0</td>\n",
       "      <td>1</td>\n",
       "      <td>0</td>\n",
       "      <td>2</td>\n",
       "      <td>1</td>\n",
       "      <td>2</td>\n",
       "      <td>14.902598</td>\n",
       "      <td>17.68695</td>\n",
       "      <td>69.6087</td>\n",
       "      <td>16.652113</td>\n",
       "      <td>801</td>\n",
       "    </tr>\n",
       "    <tr>\n",
       "      <th>2</th>\n",
       "      <td>1</td>\n",
       "      <td>0</td>\n",
       "      <td>1</td>\n",
       "      <td>0</td>\n",
       "      <td>3</td>\n",
       "      <td>1</td>\n",
       "      <td>1</td>\n",
       "      <td>8.050924</td>\n",
       "      <td>9.47025</td>\n",
       "      <td>43.7273</td>\n",
       "      <td>16.636703</td>\n",
       "      <td>1349</td>\n",
       "    </tr>\n",
       "    <tr>\n",
       "      <th>3</th>\n",
       "      <td>1</td>\n",
       "      <td>0</td>\n",
       "      <td>1</td>\n",
       "      <td>0</td>\n",
       "      <td>4</td>\n",
       "      <td>1</td>\n",
       "      <td>1</td>\n",
       "      <td>8.200000</td>\n",
       "      <td>10.60610</td>\n",
       "      <td>59.0435</td>\n",
       "      <td>10.739832</td>\n",
       "      <td>1562</td>\n",
       "    </tr>\n",
       "    <tr>\n",
       "      <th>4</th>\n",
       "      <td>1</td>\n",
       "      <td>0</td>\n",
       "      <td>1</td>\n",
       "      <td>0</td>\n",
       "      <td>5</td>\n",
       "      <td>1</td>\n",
       "      <td>1</td>\n",
       "      <td>9.305237</td>\n",
       "      <td>11.46350</td>\n",
       "      <td>43.6957</td>\n",
       "      <td>12.522300</td>\n",
       "      <td>1600</td>\n",
       "    </tr>\n",
       "  </tbody>\n",
       "</table>\n",
       "</div>"
      ],
      "text/plain": [
       "   season  yr  mnth  holiday  weekday  workingday  weathersit       temp  \\\n",
       "0       1   0     1        0        1           1           2  14.110847   \n",
       "1       1   0     1        0        2           1           2  14.902598   \n",
       "2       1   0     1        0        3           1           1   8.050924   \n",
       "3       1   0     1        0        4           1           1   8.200000   \n",
       "4       1   0     1        0        5           1           1   9.305237   \n",
       "\n",
       "      atemp      hum  windspeed   cnt  \n",
       "0  18.18125  80.5833  10.749882   985  \n",
       "1  17.68695  69.6087  16.652113   801  \n",
       "2   9.47025  43.7273  16.636703  1349  \n",
       "3  10.60610  59.0435  10.739832  1562  \n",
       "4  11.46350  43.6957  12.522300  1600  "
      ]
     },
     "execution_count": 5,
     "metadata": {},
     "output_type": "execute_result"
    }
   ],
   "source": [
    "df.drop(columns = ['instant', 'casual', 'registered', 'dteday'], inplace = True)\n",
    "df.head()"
   ]
  },
  {
   "cell_type": "code",
   "execution_count": 6,
   "metadata": {},
   "outputs": [
    {
     "name": "stdout",
     "output_type": "stream",
     "text": [
      "<class 'pandas.core.frame.DataFrame'>\n",
      "RangeIndex: 730 entries, 0 to 729\n",
      "Data columns (total 12 columns):\n",
      " #   Column      Non-Null Count  Dtype  \n",
      "---  ------      --------------  -----  \n",
      " 0   season      730 non-null    int64  \n",
      " 1   yr          730 non-null    int64  \n",
      " 2   mnth        730 non-null    int64  \n",
      " 3   holiday     730 non-null    int64  \n",
      " 4   weekday     730 non-null    int64  \n",
      " 5   workingday  730 non-null    int64  \n",
      " 6   weathersit  730 non-null    int64  \n",
      " 7   temp        730 non-null    float64\n",
      " 8   atemp       730 non-null    float64\n",
      " 9   hum         730 non-null    float64\n",
      " 10  windspeed   730 non-null    float64\n",
      " 11  cnt         730 non-null    int64  \n",
      "dtypes: float64(4), int64(8)\n",
      "memory usage: 68.6 KB\n"
     ]
    }
   ],
   "source": [
    "df.info()"
   ]
  },
  {
   "cell_type": "code",
   "execution_count": 7,
   "metadata": {},
   "outputs": [
    {
     "name": "stdout",
     "output_type": "stream",
     "text": [
      "The data presented is having 730 rows and 12 columns\n"
     ]
    }
   ],
   "source": [
    "a = df.shape\n",
    "print(f'The data presented is having {a[0]} rows and {a[1]} columns')"
   ]
  },
  {
   "cell_type": "markdown",
   "metadata": {},
   "source": [
    "<hr>\n",
    "\n",
    "# **Check for the correlation**"
   ]
  },
  {
   "cell_type": "code",
   "execution_count": 8,
   "metadata": {},
   "outputs": [
    {
     "data": {
      "text/html": [
       "<style type=\"text/css\">\n",
       "#T_005b5_row0_col0, #T_005b5_row0_col1, #T_005b5_row1_col0, #T_005b5_row1_col1, #T_005b5_row2_col2, #T_005b5_row3_col3, #T_005b5_row4_col4 {\n",
       "  background-color: #f2f2f2;\n",
       "  color: #000000;\n",
       "}\n",
       "#T_005b5_row0_col2, #T_005b5_row1_col2, #T_005b5_row2_col0, #T_005b5_row2_col1 {\n",
       "  background-color: #ccebc5;\n",
       "  color: #000000;\n",
       "}\n",
       "#T_005b5_row0_col3, #T_005b5_row1_col3, #T_005b5_row2_col3, #T_005b5_row2_col4, #T_005b5_row3_col0, #T_005b5_row3_col1, #T_005b5_row3_col2, #T_005b5_row3_col4, #T_005b5_row4_col3 {\n",
       "  background-color: #fbb4ae;\n",
       "  color: #000000;\n",
       "}\n",
       "#T_005b5_row0_col4, #T_005b5_row1_col4, #T_005b5_row4_col0, #T_005b5_row4_col1 {\n",
       "  background-color: #e5d8bd;\n",
       "  color: #000000;\n",
       "}\n",
       "#T_005b5_row4_col2 {\n",
       "  background-color: #b3cde3;\n",
       "  color: #000000;\n",
       "}\n",
       "</style>\n",
       "<table id=\"T_005b5\">\n",
       "  <thead>\n",
       "    <tr>\n",
       "      <th class=\"blank level0\" >&nbsp;</th>\n",
       "      <th id=\"T_005b5_level0_col0\" class=\"col_heading level0 col0\" >temp</th>\n",
       "      <th id=\"T_005b5_level0_col1\" class=\"col_heading level0 col1\" >atemp</th>\n",
       "      <th id=\"T_005b5_level0_col2\" class=\"col_heading level0 col2\" >hum</th>\n",
       "      <th id=\"T_005b5_level0_col3\" class=\"col_heading level0 col3\" >windspeed</th>\n",
       "      <th id=\"T_005b5_level0_col4\" class=\"col_heading level0 col4\" >cnt</th>\n",
       "    </tr>\n",
       "  </thead>\n",
       "  <tbody>\n",
       "    <tr>\n",
       "      <th id=\"T_005b5_level0_row0\" class=\"row_heading level0 row0\" >temp</th>\n",
       "      <td id=\"T_005b5_row0_col0\" class=\"data row0 col0\" >1.000000</td>\n",
       "      <td id=\"T_005b5_row0_col1\" class=\"data row0 col1\" >0.991696</td>\n",
       "      <td id=\"T_005b5_row0_col2\" class=\"data row0 col2\" >0.128565</td>\n",
       "      <td id=\"T_005b5_row0_col3\" class=\"data row0 col3\" >-0.158186</td>\n",
       "      <td id=\"T_005b5_row0_col4\" class=\"data row0 col4\" >0.627044</td>\n",
       "    </tr>\n",
       "    <tr>\n",
       "      <th id=\"T_005b5_level0_row1\" class=\"row_heading level0 row1\" >atemp</th>\n",
       "      <td id=\"T_005b5_row1_col0\" class=\"data row1 col0\" >0.991696</td>\n",
       "      <td id=\"T_005b5_row1_col1\" class=\"data row1 col1\" >1.000000</td>\n",
       "      <td id=\"T_005b5_row1_col2\" class=\"data row1 col2\" >0.141512</td>\n",
       "      <td id=\"T_005b5_row1_col3\" class=\"data row1 col3\" >-0.183876</td>\n",
       "      <td id=\"T_005b5_row1_col4\" class=\"data row1 col4\" >0.630685</td>\n",
       "    </tr>\n",
       "    <tr>\n",
       "      <th id=\"T_005b5_level0_row2\" class=\"row_heading level0 row2\" >hum</th>\n",
       "      <td id=\"T_005b5_row2_col0\" class=\"data row2 col0\" >0.128565</td>\n",
       "      <td id=\"T_005b5_row2_col1\" class=\"data row2 col1\" >0.141512</td>\n",
       "      <td id=\"T_005b5_row2_col2\" class=\"data row2 col2\" >1.000000</td>\n",
       "      <td id=\"T_005b5_row2_col3\" class=\"data row2 col3\" >-0.248506</td>\n",
       "      <td id=\"T_005b5_row2_col4\" class=\"data row2 col4\" >-0.098543</td>\n",
       "    </tr>\n",
       "    <tr>\n",
       "      <th id=\"T_005b5_level0_row3\" class=\"row_heading level0 row3\" >windspeed</th>\n",
       "      <td id=\"T_005b5_row3_col0\" class=\"data row3 col0\" >-0.158186</td>\n",
       "      <td id=\"T_005b5_row3_col1\" class=\"data row3 col1\" >-0.183876</td>\n",
       "      <td id=\"T_005b5_row3_col2\" class=\"data row3 col2\" >-0.248506</td>\n",
       "      <td id=\"T_005b5_row3_col3\" class=\"data row3 col3\" >1.000000</td>\n",
       "      <td id=\"T_005b5_row3_col4\" class=\"data row3 col4\" >-0.235132</td>\n",
       "    </tr>\n",
       "    <tr>\n",
       "      <th id=\"T_005b5_level0_row4\" class=\"row_heading level0 row4\" >cnt</th>\n",
       "      <td id=\"T_005b5_row4_col0\" class=\"data row4 col0\" >0.627044</td>\n",
       "      <td id=\"T_005b5_row4_col1\" class=\"data row4 col1\" >0.630685</td>\n",
       "      <td id=\"T_005b5_row4_col2\" class=\"data row4 col2\" >-0.098543</td>\n",
       "      <td id=\"T_005b5_row4_col3\" class=\"data row4 col3\" >-0.235132</td>\n",
       "      <td id=\"T_005b5_row4_col4\" class=\"data row4 col4\" >1.000000</td>\n",
       "    </tr>\n",
       "  </tbody>\n",
       "</table>\n"
      ],
      "text/plain": [
       "<pandas.io.formats.style.Styler at 0x239d9fa8c10>"
      ]
     },
     "execution_count": 8,
     "metadata": {},
     "output_type": "execute_result"
    }
   ],
   "source": [
    "corr = df[['temp', 'atemp', 'hum', 'windspeed', 'cnt']].corr()\n",
    "corr.style.background_gradient(cmap = \"Pastel1\")"
   ]
  },
  {
   "cell_type": "markdown",
   "metadata": {},
   "source": [
    "When the correlation between two features is close to  1 or -1, it indicates that there is high similarity, and dropping on the highly related features is recommended for many reasons:\n",
    "\n",
    "1. <b>Redundancy</b>: Highly correlated columns convey the same information, resulting in repeatition of the same data. Including both may not provide any advantage and also can have collinearity issues.\n",
    "\n",
    "2. <b>Simplicity and Interpretability</b>: A model that has less features is simple and more interpretable. Repeated features do not add value and can complicate dthe interpretation of the model's characteristic\n",
    "\n",
    "3. <b>Avoiding Overfitting</b>: Including highly correlated columns may result in overfitting, where the model fits the training data to closely, and then struggles to generalize to the testing or unseen data\n",
    "\n",
    "\n",
    "**Hence we are dropping the Atemp Columns from here**"
   ]
  },
  {
   "cell_type": "code",
   "execution_count": 9,
   "metadata": {},
   "outputs": [],
   "source": [
    "# drop the atemp\n",
    "df.drop(columns=['atemp'], inplace=True)"
   ]
  },
  {
   "cell_type": "markdown",
   "metadata": {},
   "source": [
    "<hr>\n",
    "\n",
    "# **Figuring out the the Categorical Data as mentioned in the storyline**\n",
    "\n",
    "We can observe that in the dataset that there are some of the variables like 'weathersit' and 'season' have the values as 1, 2, 3, 4 which are indicating some specific values. So, we need to specify labels for them. These numerical values associated with the labels may indicate that theis some order to them, which can may not happen in this case. So, it's advisable to convert the feature value into categorical sting before going ahead"
   ]
  },
  {
   "cell_type": "markdown",
   "metadata": {},
   "source": [
    "**Working with season columns**"
   ]
  },
  {
   "cell_type": "code",
   "execution_count": 10,
   "metadata": {},
   "outputs": [],
   "source": [
    "df['season'] = df['season'].map({\n",
    "    1: 'Spring',\n",
    "    2 : 'Summer',\n",
    "    3 : 'Fall',\n",
    "    4 : 'Winter'\n",
    "})"
   ]
  },
  {
   "cell_type": "markdown",
   "metadata": {},
   "source": [
    "**Working with mnth columns**"
   ]
  },
  {
   "cell_type": "code",
   "execution_count": 12,
   "metadata": {},
   "outputs": [],
   "source": [
    "df['mnth'] = df['mnth'].map({\n",
    "    1: 'January', \n",
    "    2: 'February', \n",
    "    3: 'March', \n",
    "    4: 'April', \n",
    "    5: 'May', \n",
    "    6: 'June', \n",
    "    7: 'July', \n",
    "    8: 'August', \n",
    "    9: 'September', \n",
    "    10: 'October', \n",
    "    11: 'November', \n",
    "    12: 'December'})"
   ]
  },
  {
   "cell_type": "markdown",
   "metadata": {},
   "source": [
    "**Working with weekday columns**"
   ]
  },
  {
   "cell_type": "code",
   "execution_count": 13,
   "metadata": {},
   "outputs": [],
   "source": [
    "df['weekday'] = df['weekday'].map({\n",
    "    0: 'Sunday', \n",
    "    1: 'Monday', \n",
    "    2: 'Tuesday', \n",
    "    3: 'Wednesday', \n",
    "    4: 'Thursday', \n",
    "    5: 'Friday', \n",
    "    6: 'Saturday'\n",
    "})"
   ]
  },
  {
   "cell_type": "markdown",
   "metadata": {},
   "source": [
    "**Working with weathersit columns**"
   ]
  },
  {
   "cell_type": "code",
   "execution_count": 14,
   "metadata": {},
   "outputs": [],
   "source": [
    "df['weathersit'] = df['weathersit'].map({\n",
    "    1: 'Clear',\n",
    "    2: 'Cloudy_mist',\n",
    "    3: 'Light_Rain_Thunder',\n",
    "    4: 'Heavy_Rain_thunder'\n",
    "})"
   ]
  },
  {
   "cell_type": "code",
   "execution_count": 15,
   "metadata": {},
   "outputs": [
    {
     "data": {
      "text/html": [
       "<div>\n",
       "<style scoped>\n",
       "    .dataframe tbody tr th:only-of-type {\n",
       "        vertical-align: middle;\n",
       "    }\n",
       "\n",
       "    .dataframe tbody tr th {\n",
       "        vertical-align: top;\n",
       "    }\n",
       "\n",
       "    .dataframe thead th {\n",
       "        text-align: right;\n",
       "    }\n",
       "</style>\n",
       "<table border=\"1\" class=\"dataframe\">\n",
       "  <thead>\n",
       "    <tr style=\"text-align: right;\">\n",
       "      <th></th>\n",
       "      <th>season</th>\n",
       "      <th>yr</th>\n",
       "      <th>mnth</th>\n",
       "      <th>holiday</th>\n",
       "      <th>weekday</th>\n",
       "      <th>workingday</th>\n",
       "      <th>weathersit</th>\n",
       "      <th>temp</th>\n",
       "      <th>hum</th>\n",
       "      <th>windspeed</th>\n",
       "      <th>cnt</th>\n",
       "    </tr>\n",
       "  </thead>\n",
       "  <tbody>\n",
       "    <tr>\n",
       "      <th>0</th>\n",
       "      <td>Spring</td>\n",
       "      <td>0</td>\n",
       "      <td>January</td>\n",
       "      <td>0</td>\n",
       "      <td>Monday</td>\n",
       "      <td>1</td>\n",
       "      <td>Cloudy_mist</td>\n",
       "      <td>14.110847</td>\n",
       "      <td>80.5833</td>\n",
       "      <td>10.749882</td>\n",
       "      <td>985</td>\n",
       "    </tr>\n",
       "    <tr>\n",
       "      <th>1</th>\n",
       "      <td>Spring</td>\n",
       "      <td>0</td>\n",
       "      <td>January</td>\n",
       "      <td>0</td>\n",
       "      <td>Tuesday</td>\n",
       "      <td>1</td>\n",
       "      <td>Cloudy_mist</td>\n",
       "      <td>14.902598</td>\n",
       "      <td>69.6087</td>\n",
       "      <td>16.652113</td>\n",
       "      <td>801</td>\n",
       "    </tr>\n",
       "    <tr>\n",
       "      <th>2</th>\n",
       "      <td>Spring</td>\n",
       "      <td>0</td>\n",
       "      <td>January</td>\n",
       "      <td>0</td>\n",
       "      <td>Wednesday</td>\n",
       "      <td>1</td>\n",
       "      <td>Clear</td>\n",
       "      <td>8.050924</td>\n",
       "      <td>43.7273</td>\n",
       "      <td>16.636703</td>\n",
       "      <td>1349</td>\n",
       "    </tr>\n",
       "    <tr>\n",
       "      <th>3</th>\n",
       "      <td>Spring</td>\n",
       "      <td>0</td>\n",
       "      <td>January</td>\n",
       "      <td>0</td>\n",
       "      <td>Thursday</td>\n",
       "      <td>1</td>\n",
       "      <td>Clear</td>\n",
       "      <td>8.200000</td>\n",
       "      <td>59.0435</td>\n",
       "      <td>10.739832</td>\n",
       "      <td>1562</td>\n",
       "    </tr>\n",
       "    <tr>\n",
       "      <th>4</th>\n",
       "      <td>Spring</td>\n",
       "      <td>0</td>\n",
       "      <td>January</td>\n",
       "      <td>0</td>\n",
       "      <td>Friday</td>\n",
       "      <td>1</td>\n",
       "      <td>Clear</td>\n",
       "      <td>9.305237</td>\n",
       "      <td>43.6957</td>\n",
       "      <td>12.522300</td>\n",
       "      <td>1600</td>\n",
       "    </tr>\n",
       "  </tbody>\n",
       "</table>\n",
       "</div>"
      ],
      "text/plain": [
       "   season  yr     mnth  holiday    weekday  workingday   weathersit  \\\n",
       "0  Spring   0  January        0     Monday           1  Cloudy_mist   \n",
       "1  Spring   0  January        0    Tuesday           1  Cloudy_mist   \n",
       "2  Spring   0  January        0  Wednesday           1        Clear   \n",
       "3  Spring   0  January        0   Thursday           1        Clear   \n",
       "4  Spring   0  January        0     Friday           1        Clear   \n",
       "\n",
       "        temp      hum  windspeed   cnt  \n",
       "0  14.110847  80.5833  10.749882   985  \n",
       "1  14.902598  69.6087  16.652113   801  \n",
       "2   8.050924  43.7273  16.636703  1349  \n",
       "3   8.200000  59.0435  10.739832  1562  \n",
       "4   9.305237  43.6957  12.522300  1600  "
      ]
     },
     "execution_count": 15,
     "metadata": {},
     "output_type": "execute_result"
    }
   ],
   "source": [
    "df.head()"
   ]
  },
  {
   "cell_type": "markdown",
   "metadata": {},
   "source": [
    "<hr>\n",
    "\n",
    "# **Step 2 - Visualising the data**"
   ]
  },
  {
   "cell_type": "code",
   "execution_count": 28,
   "metadata": {},
   "outputs": [
    {
     "ename": "TypeError",
     "evalue": "'module' object is not callable",
     "output_type": "error",
     "traceback": [
      "\u001b[1;31m---------------------------------------------------------------------------\u001b[0m",
      "\u001b[1;31mTypeError\u001b[0m                                 Traceback (most recent call last)",
      "Cell \u001b[1;32mIn[28], line 3\u001b[0m\n\u001b[0;32m      1\u001b[0m \u001b[38;5;28;01mimport\u001b[39;00m \u001b[38;5;21;01mseaborn\u001b[39;00m \u001b[38;5;28;01mas\u001b[39;00m \u001b[38;5;21;01msns\u001b[39;00m\n\u001b[1;32m----> 3\u001b[0m palettes \u001b[38;5;241m=\u001b[39m \u001b[43msns\u001b[49m\u001b[38;5;241;43m.\u001b[39;49m\u001b[43mpalettes\u001b[49m\u001b[43m(\u001b[49m\u001b[43m)\u001b[49m\n\u001b[0;32m      4\u001b[0m \u001b[38;5;28mprint\u001b[39m(palettes)\n",
      "\u001b[1;31mTypeError\u001b[0m: 'module' object is not callable"
     ]
    }
   ],
   "source": []
  },
  {
   "cell_type": "code",
   "execution_count": 31,
   "metadata": {},
   "outputs": [
    {
     "data": {
      "image/png": "[encoded data removed]",
      "text/plain": [
       "<Figure size 1500x1200 with 7 Axes>"
      ]
     },
     "metadata": {},
     "output_type": "display_data"
    }
   ],
   "source": [
    "# the variables that are being taken in consideration\n",
    "plt.style.use('dark_background')\n",
    "cat_vars = ['season', 'yr', 'mnth', 'holiday', 'weekday', 'workingday', 'weathersit']\n",
    "\n",
    "plt.figure(figsize= (15, 12))\n",
    "for i, x in enumerate(cat_vars, 1):\n",
    "    plt.subplot(3, 3, i)\n",
    "    df_Boxplot = df[['cnt', x]].copy()\n",
    "    df_Boxplot[x] = df[x].astype('category')\n",
    "    \n",
    "    sns.boxplot(x = x, \n",
    "                y = 'cnt', \n",
    "                data =df_Boxplot, \n",
    "                width = 0.4,\n",
    "                showmeans = True, \n",
    "                palette='Paired')\n",
    "    plt.title(f'Boxplot for the Bike Rental by {x}')\n",
    "    plt.xlabel(x)\n",
    "    plt.ylabel(\"Count of the Bike Rental\")\n",
    "    plt.xticks(rotation = 90)\n",
    "\n",
    "plt.tight_layout()\n",
    "plt.show()"
   ]
  },
  {
   "cell_type": "markdown",
   "metadata": {},
   "source": [
    "# **Insights**\n",
    "\n",
    "**1 .Seasonal Analysis**\n",
    "\n",
    "* Fall has the highest average rentals, followed closely by summer\n",
    "\n",
    "**2. Year-wise Rentals**\n",
    "\n",
    "* 2019 sees a significant increase with the median rise of apporimately 2000 rentals compared to 2018\n",
    "\n",
    "**3. Monthly Trend**\n",
    "\n",
    "* September tops the montly rental count, with surrounding months showing increase in demands\n",
    "\n",
    "**4. Holiday vs Working Day**\n",
    "\n",
    "* Holiday generally shows that there are lower rental counts as compared to wokring days\n",
    "\n",
    "* Holidays also exhibits greater variability in rental demands\n",
    "\n",
    "**5. Weekday Analysis**\n",
    "\n",
    "* Overall, there is no significant difference in rental across weekdays is observed\n",
    "\n",
    "* Thursdays and Sunday stand out with higher variablity in rental counts as compared to other weekdays\n",
    "\n",
    "\n"
   ]
  },
  {
   "cell_type": "code",
   "execution_count": null,
   "metadata": {},
   "outputs": [],
   "source": []
  }
 ],
 "metadata": {
  "kernelspec": {
   "display_name": "Python 3",
   "language": "python",
   "name": "python3"
  },
  "language_info": {
   "codemirror_mode": {
    "name": "ipython",
    "version": 3
   },
   "file_extension": ".py",
   "mimetype": "text/x-python",
   "name": "python",
   "nbconvert_exporter": "python",
   "pygments_lexer": "ipython3",
   "version": "3.11.3"
  }
 },
 "nbformat": 4,
 "nbformat_minor": 2
}
